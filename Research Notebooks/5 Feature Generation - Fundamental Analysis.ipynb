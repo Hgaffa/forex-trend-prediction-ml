{
 "cells": [
  {
   "cell_type": "markdown",
   "metadata": {},
   "source": [
    "# 5 Feature Generation - Fundamental Analysis\n",
    "\n",
    "After producing features through Technical and Sentiment analysis, the final form of feature engineering was through the processing of macroeconomic, political and social news pertaining to currency pairs and relevant countries. This notebook explores fundamental analysis through the processing of news articles and deriving daily sentiments, similar to the Sentiment Analysis feature engineering process."
   ]
  },
  {
   "cell_type": "code",
   "execution_count": 2,
   "metadata": {},
   "outputs": [],
   "source": [
    "#import libraries\n",
    "import os\n",
    "import pandas as pd\n",
    "import snscrape.modules.twitter as sntwitter\n",
    "import re\n",
    "import string\n",
    "from textblob import TextBlob\n",
    "import snscrape.modules.twitter as sntwitter\n",
    "import datetime\n",
    "import numpy as np\n",
    "from vaderSentiment.vaderSentiment import SentimentIntensityAnalyzer\n",
    "\n",
    "from sklearn.model_selection import GridSearchCV\n",
    "from sklearn.metrics import classification_report\n",
    "from sklearn.svm import SVC\n",
    "from sklearn.metrics import accuracy_score\n",
    "from sklearn.preprocessing import StandardScaler, MinMaxScaler\n",
    "from sklearn.metrics import plot_confusion_matrix\n",
    "from sklearn.ensemble import RandomForestClassifier\n",
    "\n",
    "from wordcloud import WordCloud, STOPWORDS\n",
    "\n",
    "from matplotlib import pyplot as plt\n",
    "\n",
    "import seaborn as sns\n",
    "\n",
    "from datetime import date, timedelta\n",
    "from urllib.request import urlopen, Request\n",
    "from bs4 import BeautifulSoup\n",
    "\n",
    "import talib as ta\n",
    "\n",
    "import praw\n",
    "from pushshift_py import PushshiftAPI \n",
    "\n",
    "import math\n",
    "import json\n",
    "import itertools\n",
    "import requests\n",
    "import time\n",
    "from datetime import datetime, timedelta, timezone\n"
   ]
  },
  {
   "cell_type": "markdown",
   "metadata": {},
   "source": [
    "## 5.1 Load Dataset"
   ]
  },
  {
   "cell_type": "code",
   "execution_count": 239,
   "metadata": {},
   "outputs": [
    {
     "data": {
      "text/html": [
       "<div>\n",
       "<style scoped>\n",
       "    .dataframe tbody tr th:only-of-type {\n",
       "        vertical-align: middle;\n",
       "    }\n",
       "\n",
       "    .dataframe tbody tr th {\n",
       "        vertical-align: top;\n",
       "    }\n",
       "\n",
       "    .dataframe thead th {\n",
       "        text-align: right;\n",
       "    }\n",
       "</style>\n",
       "<table border=\"1\" class=\"dataframe\">\n",
       "  <thead>\n",
       "    <tr style=\"text-align: right;\">\n",
       "      <th></th>\n",
       "      <th>Open</th>\n",
       "      <th>High</th>\n",
       "      <th>Low</th>\n",
       "      <th>Close</th>\n",
       "      <th>Volume</th>\n",
       "      <th>Return</th>\n",
       "    </tr>\n",
       "    <tr>\n",
       "      <th>Date</th>\n",
       "      <th></th>\n",
       "      <th></th>\n",
       "      <th></th>\n",
       "      <th></th>\n",
       "      <th></th>\n",
       "      <th></th>\n",
       "    </tr>\n",
       "  </thead>\n",
       "  <tbody>\n",
       "    <tr>\n",
       "      <th>2011-01-02</th>\n",
       "      <td>1.02070</td>\n",
       "      <td>1.02267</td>\n",
       "      <td>1.01582</td>\n",
       "      <td>1.01687</td>\n",
       "      <td>69778.4109</td>\n",
       "      <td>-0.005808</td>\n",
       "    </tr>\n",
       "    <tr>\n",
       "      <th>2011-01-03</th>\n",
       "      <td>1.01687</td>\n",
       "      <td>1.01716</td>\n",
       "      <td>1.00294</td>\n",
       "      <td>1.00517</td>\n",
       "      <td>124906.5397</td>\n",
       "      <td>-0.011506</td>\n",
       "    </tr>\n",
       "    <tr>\n",
       "      <th>2011-01-04</th>\n",
       "      <td>1.00517</td>\n",
       "      <td>1.00770</td>\n",
       "      <td>0.99613</td>\n",
       "      <td>0.99961</td>\n",
       "      <td>119343.0942</td>\n",
       "      <td>-0.005531</td>\n",
       "    </tr>\n",
       "    <tr>\n",
       "      <th>2011-01-05</th>\n",
       "      <td>0.99961</td>\n",
       "      <td>1.00159</td>\n",
       "      <td>0.99338</td>\n",
       "      <td>0.99449</td>\n",
       "      <td>99106.5343</td>\n",
       "      <td>-0.005122</td>\n",
       "    </tr>\n",
       "    <tr>\n",
       "      <th>2011-01-06</th>\n",
       "      <td>0.99448</td>\n",
       "      <td>0.99932</td>\n",
       "      <td>0.99087</td>\n",
       "      <td>0.99614</td>\n",
       "      <td>101413.4171</td>\n",
       "      <td>0.001659</td>\n",
       "    </tr>\n",
       "    <tr>\n",
       "      <th>...</th>\n",
       "      <td>...</td>\n",
       "      <td>...</td>\n",
       "      <td>...</td>\n",
       "      <td>...</td>\n",
       "      <td>...</td>\n",
       "      <td>...</td>\n",
       "    </tr>\n",
       "    <tr>\n",
       "      <th>2018-12-25</th>\n",
       "      <td>0.70428</td>\n",
       "      <td>0.70723</td>\n",
       "      <td>0.70333</td>\n",
       "      <td>0.70693</td>\n",
       "      <td>77848.7096</td>\n",
       "      <td>0.003848</td>\n",
       "    </tr>\n",
       "    <tr>\n",
       "      <th>2018-12-26</th>\n",
       "      <td>0.70693</td>\n",
       "      <td>0.70786</td>\n",
       "      <td>0.70173</td>\n",
       "      <td>0.70352</td>\n",
       "      <td>193196.9914</td>\n",
       "      <td>-0.004824</td>\n",
       "    </tr>\n",
       "    <tr>\n",
       "      <th>2018-12-27</th>\n",
       "      <td>0.70338</td>\n",
       "      <td>0.70698</td>\n",
       "      <td>0.70287</td>\n",
       "      <td>0.70412</td>\n",
       "      <td>147956.1087</td>\n",
       "      <td>0.000853</td>\n",
       "    </tr>\n",
       "    <tr>\n",
       "      <th>2018-12-30</th>\n",
       "      <td>0.70450</td>\n",
       "      <td>0.70721</td>\n",
       "      <td>0.70334</td>\n",
       "      <td>0.70534</td>\n",
       "      <td>108426.1493</td>\n",
       "      <td>0.001733</td>\n",
       "    </tr>\n",
       "    <tr>\n",
       "      <th>2019-01-01</th>\n",
       "      <td>0.70542</td>\n",
       "      <td>0.70554</td>\n",
       "      <td>0.69826</td>\n",
       "      <td>0.69853</td>\n",
       "      <td>190119.7498</td>\n",
       "      <td>-0.009655</td>\n",
       "    </tr>\n",
       "  </tbody>\n",
       "</table>\n",
       "<p>2091 rows × 6 columns</p>\n",
       "</div>"
      ],
      "text/plain": [
       "               Open     High      Low    Close       Volume    Return\n",
       "Date                                                                 \n",
       "2011-01-02  1.02070  1.02267  1.01582  1.01687   69778.4109 -0.005808\n",
       "2011-01-03  1.01687  1.01716  1.00294  1.00517  124906.5397 -0.011506\n",
       "2011-01-04  1.00517  1.00770  0.99613  0.99961  119343.0942 -0.005531\n",
       "2011-01-05  0.99961  1.00159  0.99338  0.99449   99106.5343 -0.005122\n",
       "2011-01-06  0.99448  0.99932  0.99087  0.99614  101413.4171  0.001659\n",
       "...             ...      ...      ...      ...          ...       ...\n",
       "2018-12-25  0.70428  0.70723  0.70333  0.70693   77848.7096  0.003848\n",
       "2018-12-26  0.70693  0.70786  0.70173  0.70352  193196.9914 -0.004824\n",
       "2018-12-27  0.70338  0.70698  0.70287  0.70412  147956.1087  0.000853\n",
       "2018-12-30  0.70450  0.70721  0.70334  0.70534  108426.1493  0.001733\n",
       "2019-01-01  0.70542  0.70554  0.69826  0.69853  190119.7498 -0.009655\n",
       "\n",
       "[2091 rows x 6 columns]"
      ]
     },
     "execution_count": 239,
     "metadata": {},
     "output_type": "execute_result"
    }
   ],
   "source": [
    "#read dataset in\n",
    "df = pd.read_csv(\"./Data/AUDUSD_Candlestick_1_D_ASK_01.01.2011-01.01.2019.csv\")\n",
    "\n",
    "#index by date and remove duplicates\n",
    "df['Date'] = pd.to_datetime(df['Date'], format='%d.%m.%Y %H:%M:%S.%f')\n",
    "\n",
    "df['Date'] = pd.DataFrame(df.Date).applymap(lambda x: x.date())\n",
    "\n",
    "df['Return'] = df.Close.pct_change()\n",
    "\n",
    "df = df.set_index(df.Date)\n",
    "\n",
    "df = df[['Open', 'High', 'Low', 'Close', 'Volume', 'Return']]\n",
    "\n",
    "#remove 0 volume days\n",
    "df = df[df['Volume'] != 0]\n",
    "\n",
    "#df = df[pd.Timestamp('2015-01-01'):pd.Timestamp('2018-01-01')]\n",
    "df"
   ]
  },
  {
   "cell_type": "markdown",
   "metadata": {},
   "source": [
    "## 5.2 Pulling News Headlines\n",
    "\n",
    "News headlines were used as the main form of sentiment analysis as they encompass the macroeconomic health of countries and currency pairs. The website investing.com was used as it had convenient indexes for manual web scraping."
   ]
  },
  {
   "cell_type": "code",
   "execution_count": 4,
   "metadata": {},
   "outputs": [],
   "source": [
    "#Function to get all articles from investing.com between specified start/end integers (page indexes)\n",
    "def get_articles(start = 0, end = 0):\n",
    "\n",
    "    #Use headers to emulate normal searcher, stops flagging of bots\n",
    "\n",
    "    index = 0\n",
    "\n",
    "    articles = pd.DataFrame(columns=['Date', 'Headline'])\n",
    "\n",
    "    #Range for X is found by finding the page indexes that correspond to the start and end date of the data we want\n",
    "\n",
    "    for x in range (start,end):\n",
    "\n",
    "        url = 'https://www.investing.com/news/forex-news/{}'.format(x)  \n",
    "\n",
    "        r = requests.get(url, headers={\"User-Agent\": \"Mozilla/5.0\"})\n",
    "\n",
    "        c = r.content\n",
    "\n",
    "        soup1 = BeautifulSoup(c, \"html.parser\")\n",
    "\n",
    "        coverpage_news = soup1.find('div', class_='largeTitle')\n",
    "\n",
    "        for article in BeautifulSoup(str(coverpage_news), \"html.parser\").findAll(\"div\", class_=\"textDiv\"):\n",
    "\n",
    "            sponsored = BeautifulSoup(str(article), \"html.parser\").find(\"span\", class_=\"sponsoredBadge arial_11\")\n",
    "\n",
    "            if sponsored:\n",
    "\n",
    "                continue\n",
    "\n",
    "            else:\n",
    "\n",
    "                date = datetime.strptime(BeautifulSoup(str(article.find(\"span\", class_=\"date\")), \"html.parser\").text[3:], '%b %d, %Y')\n",
    "\n",
    "                headline = str(article.find(\"a\")['title'])\n",
    "\n",
    "                articles.loc[index] = [date, headline]\n",
    "\n",
    "                index += 1\n",
    "\n",
    "    articles = articles.set_index(articles.Date)\n",
    "    \n",
    "    return articles"
   ]
  },
  {
   "cell_type": "code",
   "execution_count": 5,
   "metadata": {},
   "outputs": [
    {
     "name": "stdout",
     "output_type": "stream",
     "text": [
      "Wall time: 1h 13min 12s\n"
     ]
    },
    {
     "data": {
      "text/html": [
       "<div>\n",
       "<style scoped>\n",
       "    .dataframe tbody tr th:only-of-type {\n",
       "        vertical-align: middle;\n",
       "    }\n",
       "\n",
       "    .dataframe tbody tr th {\n",
       "        vertical-align: top;\n",
       "    }\n",
       "\n",
       "    .dataframe thead th {\n",
       "        text-align: right;\n",
       "    }\n",
       "</style>\n",
       "<table border=\"1\" class=\"dataframe\">\n",
       "  <thead>\n",
       "    <tr style=\"text-align: right;\">\n",
       "      <th></th>\n",
       "      <th>Date</th>\n",
       "      <th>Headline</th>\n",
       "    </tr>\n",
       "    <tr>\n",
       "      <th>Date</th>\n",
       "      <th></th>\n",
       "      <th></th>\n",
       "    </tr>\n",
       "  </thead>\n",
       "  <tbody>\n",
       "    <tr>\n",
       "      <th>2019-01-10</th>\n",
       "      <td>2019-01-10</td>\n",
       "      <td>Forex - U.S. Dollar Slips After Fed; China CPI...</td>\n",
       "    </tr>\n",
       "    <tr>\n",
       "      <th>2019-01-09</th>\n",
       "      <td>2019-01-09</td>\n",
       "      <td>Dollar shaky on Fed minutes; riskier assets up...</td>\n",
       "    </tr>\n",
       "    <tr>\n",
       "      <th>2019-01-09</th>\n",
       "      <td>2019-01-09</td>\n",
       "      <td>Forex - Dollar Makes Dash Lower as Fed Open to...</td>\n",
       "    </tr>\n",
       "    <tr>\n",
       "      <th>2019-01-09</th>\n",
       "      <td>2019-01-09</td>\n",
       "      <td>Forex - U.S. Dollar Slumps on Dovish Fed Comments</td>\n",
       "    </tr>\n",
       "    <tr>\n",
       "      <th>2019-01-09</th>\n",
       "      <td>2019-01-09</td>\n",
       "      <td>Canada dollar to rebound in 2019, supported by...</td>\n",
       "    </tr>\n",
       "    <tr>\n",
       "      <th>...</th>\n",
       "      <td>...</td>\n",
       "      <td>...</td>\n",
       "    </tr>\n",
       "    <tr>\n",
       "      <th>2011-01-01</th>\n",
       "      <td>2011-01-01</td>\n",
       "      <td>UPDATE 2-Rousseff becomes first woman to lead ...</td>\n",
       "    </tr>\n",
       "    <tr>\n",
       "      <th>2011-01-01</th>\n",
       "      <td>2011-01-01</td>\n",
       "      <td>FACTBOX-The five key issues facing the ECB in ...</td>\n",
       "    </tr>\n",
       "    <tr>\n",
       "      <th>2010-12-31</th>\n",
       "      <td>2010-12-31</td>\n",
       "      <td>UPDATE 2-Estonia joins crisis-hit euro club, o...</td>\n",
       "    </tr>\n",
       "    <tr>\n",
       "      <th>2010-12-31</th>\n",
       "      <td>2010-12-31</td>\n",
       "      <td>Forex - EUR/USD up at the end of U.S. session</td>\n",
       "    </tr>\n",
       "    <tr>\n",
       "      <th>2010-12-31</th>\n",
       "      <td>2010-12-31</td>\n",
       "      <td>Forex - GBP/USD up at the end of U.S. session</td>\n",
       "    </tr>\n",
       "  </tbody>\n",
       "</table>\n",
       "<p>41990 rows × 2 columns</p>\n",
       "</div>"
      ],
      "text/plain": [
       "                 Date                                           Headline\n",
       "Date                                                                    \n",
       "2019-01-10 2019-01-10  Forex - U.S. Dollar Slips After Fed; China CPI...\n",
       "2019-01-09 2019-01-09  Dollar shaky on Fed minutes; riskier assets up...\n",
       "2019-01-09 2019-01-09  Forex - Dollar Makes Dash Lower as Fed Open to...\n",
       "2019-01-09 2019-01-09  Forex - U.S. Dollar Slumps on Dovish Fed Comments\n",
       "2019-01-09 2019-01-09  Canada dollar to rebound in 2019, supported by...\n",
       "...               ...                                                ...\n",
       "2011-01-01 2011-01-01  UPDATE 2-Rousseff becomes first woman to lead ...\n",
       "2011-01-01 2011-01-01  FACTBOX-The five key issues facing the ECB in ...\n",
       "2010-12-31 2010-12-31  UPDATE 2-Estonia joins crisis-hit euro club, o...\n",
       "2010-12-31 2010-12-31      Forex - EUR/USD up at the end of U.S. session\n",
       "2010-12-31 2010-12-31      Forex - GBP/USD up at the end of U.S. session\n",
       "\n",
       "[41990 rows x 2 columns]"
      ]
     },
     "execution_count": 5,
     "metadata": {},
     "output_type": "execute_result"
    }
   ],
   "source": [
    "%%time\n",
    "all_articles = get_articles(250,2720)\n",
    "all_articles"
   ]
  },
  {
   "cell_type": "code",
   "execution_count": 6,
   "metadata": {},
   "outputs": [],
   "source": [
    "all_articles.to_csv(\"./all_articles_AUDUSD_2011-2019.csv\")"
   ]
  },
  {
   "cell_type": "code",
   "execution_count": 9,
   "metadata": {},
   "outputs": [
    {
     "data": {
      "text/plain": [
       "Date        0\n",
       "Headline    0\n",
       "dtype: int64"
      ]
     },
     "execution_count": 9,
     "metadata": {},
     "output_type": "execute_result"
    }
   ],
   "source": [
    "all_articles = all_articles.dropna()\n",
    "all_articles.isna().sum()"
   ]
  },
  {
   "cell_type": "code",
   "execution_count": 216,
   "metadata": {},
   "outputs": [
    {
     "data": {
      "text/html": [
       "<div>\n",
       "<style scoped>\n",
       "    .dataframe tbody tr th:only-of-type {\n",
       "        vertical-align: middle;\n",
       "    }\n",
       "\n",
       "    .dataframe tbody tr th {\n",
       "        vertical-align: top;\n",
       "    }\n",
       "\n",
       "    .dataframe thead th {\n",
       "        text-align: right;\n",
       "    }\n",
       "</style>\n",
       "<table border=\"1\" class=\"dataframe\">\n",
       "  <thead>\n",
       "    <tr style=\"text-align: right;\">\n",
       "      <th></th>\n",
       "      <th>Date</th>\n",
       "      <th>Headline</th>\n",
       "    </tr>\n",
       "    <tr>\n",
       "      <th>Date</th>\n",
       "      <th></th>\n",
       "      <th></th>\n",
       "    </tr>\n",
       "  </thead>\n",
       "  <tbody>\n",
       "    <tr>\n",
       "      <th>2011-01-02</th>\n",
       "      <td>2011-01-02</td>\n",
       "      <td>Forex - AUD/USD weekly outlook: January 3-7</td>\n",
       "    </tr>\n",
       "    <tr>\n",
       "      <th>2011-01-02</th>\n",
       "      <td>2011-01-02</td>\n",
       "      <td>Forex - USD/CAD down during the Asian session</td>\n",
       "    </tr>\n",
       "    <tr>\n",
       "      <th>2011-01-02</th>\n",
       "      <td>2011-01-02</td>\n",
       "      <td>Forex - USD/JPY up during the Asian session</td>\n",
       "    </tr>\n",
       "    <tr>\n",
       "      <th>2011-01-02</th>\n",
       "      <td>2011-01-02</td>\n",
       "      <td>Forex - AUD/USD down during the Asian session</td>\n",
       "    </tr>\n",
       "    <tr>\n",
       "      <th>2011-01-02</th>\n",
       "      <td>2011-01-02</td>\n",
       "      <td>Forex - NZD/USD down during the Asian session</td>\n",
       "    </tr>\n",
       "    <tr>\n",
       "      <th>...</th>\n",
       "      <td>...</td>\n",
       "      <td>...</td>\n",
       "    </tr>\n",
       "    <tr>\n",
       "      <th>2018-12-26</th>\n",
       "      <td>2018-12-26</td>\n",
       "      <td>Forex - Dollar Edges Higher in Quiet Post-Chri...</td>\n",
       "    </tr>\n",
       "    <tr>\n",
       "      <th>2018-12-27</th>\n",
       "      <td>2018-12-27</td>\n",
       "      <td>Forex - Yuan Gains Despite Weak China Data; U....</td>\n",
       "    </tr>\n",
       "    <tr>\n",
       "      <th>2018-12-27</th>\n",
       "      <td>2018-12-27</td>\n",
       "      <td>Forex - Yen Rises Amid Renewed China-U.S. Tens...</td>\n",
       "    </tr>\n",
       "    <tr>\n",
       "      <th>2018-12-30</th>\n",
       "      <td>2018-12-30</td>\n",
       "      <td>USD Flat In Asia As US-China Trade Talks Prog...</td>\n",
       "    </tr>\n",
       "    <tr>\n",
       "      <th>2018-12-31</th>\n",
       "      <td>2018-12-31</td>\n",
       "      <td>Dollar ends strongest year since 2015 on defen...</td>\n",
       "    </tr>\n",
       "  </tbody>\n",
       "</table>\n",
       "<p>27969 rows × 2 columns</p>\n",
       "</div>"
      ],
      "text/plain": [
       "                 Date                                           Headline\n",
       "Date                                                                    \n",
       "2011-01-02 2011-01-02        Forex - AUD/USD weekly outlook: January 3-7\n",
       "2011-01-02 2011-01-02      Forex - USD/CAD down during the Asian session\n",
       "2011-01-02 2011-01-02        Forex - USD/JPY up during the Asian session\n",
       "2011-01-02 2011-01-02      Forex - AUD/USD down during the Asian session\n",
       "2011-01-02 2011-01-02      Forex - NZD/USD down during the Asian session\n",
       "...               ...                                                ...\n",
       "2018-12-26 2018-12-26  Forex - Dollar Edges Higher in Quiet Post-Chri...\n",
       "2018-12-27 2018-12-27  Forex - Yuan Gains Despite Weak China Data; U....\n",
       "2018-12-27 2018-12-27  Forex - Yen Rises Amid Renewed China-U.S. Tens...\n",
       "2018-12-30 2018-12-30   USD Flat In Asia As US-China Trade Talks Prog...\n",
       "2018-12-31 2018-12-31  Dollar ends strongest year since 2015 on defen...\n",
       "\n",
       "[27969 rows x 2 columns]"
      ]
     },
     "execution_count": 216,
     "metadata": {},
     "output_type": "execute_result"
    }
   ],
   "source": [
    "#Function to get headlines containing set of words\n",
    "def get_articles_from_list(words, articles):\n",
    "    \n",
    "    news = pd.DataFrame(columns=['Date','Headline'])\n",
    "    \n",
    "    for word in words:\n",
    "    \n",
    "        found = articles[articles.Headline.str.contains(word)]\n",
    "        \n",
    "        news = news.append(found)\n",
    "        \n",
    "    news = news.set_index(news.Date)\n",
    "        \n",
    "    news.sort_index(inplace=True)\n",
    "    \n",
    "    news = news.drop_duplicates()\n",
    "    \n",
    "    return news\n",
    "\n",
    "words = ['AUD/USD','USD/AUD','USA','America','Australia','US','Dollar']\n",
    "\n",
    "news = get_articles_from_list(words, all_articles)\n",
    "\n",
    "news = news.loc['2011-01-01':'2019-01-01']\n",
    "\n",
    "news"
   ]
  },
  {
   "cell_type": "code",
   "execution_count": 217,
   "metadata": {},
   "outputs": [
    {
     "name": "stdout",
     "output_type": "stream",
     "text": [
      "Number of missing days of News headlines: 531\n"
     ]
    }
   ],
   "source": [
    "date_range = pd.date_range(start='20110101', end='20190101', freq='D')\n",
    "print(\"Number of missing days of News headlines:\", len(date_range) - len(news.Date.unique()))"
   ]
  },
  {
   "cell_type": "markdown",
   "metadata": {},
   "source": [
    "## 5.3 Cleaning Headlines\n",
    "\n",
    "Now that data had been pulled, the same pre-processing steps applied to sentiment data could be applied."
   ]
  },
  {
   "cell_type": "code",
   "execution_count": 218,
   "metadata": {},
   "outputs": [],
   "source": [
    "import re, string\n",
    "news = news.drop(columns=['Date'])\n",
    "#Function to clean an inputed text string\n",
    "def clean(text):\n",
    "\n",
    "    # remove hyperlinks\n",
    "    text = re.sub(r'https?:\\/\\/.*[\\r\\n]*', '', text)\n",
    "\n",
    "    # remove hashtags\n",
    "    text = re.sub(r'#', '', text)\n",
    "    \n",
    "    # remove dashes\n",
    "    text = re.sub(r'–', '', text)\n",
    "\n",
    "    # remove punctuations\n",
    "    text = re.sub(r'['+string.punctuation+']+', ' ', text)\n",
    "    \n",
    "    #remove new lines\n",
    "    text = re.sub(r'\\n', '', text)\n",
    "    \n",
    "    text = text.lower()\n",
    "    \n",
    "    return text"
   ]
  },
  {
   "cell_type": "code",
   "execution_count": 219,
   "metadata": {},
   "outputs": [
    {
     "data": {
      "text/html": [
       "<div>\n",
       "<style scoped>\n",
       "    .dataframe tbody tr th:only-of-type {\n",
       "        vertical-align: middle;\n",
       "    }\n",
       "\n",
       "    .dataframe tbody tr th {\n",
       "        vertical-align: top;\n",
       "    }\n",
       "\n",
       "    .dataframe thead th {\n",
       "        text-align: right;\n",
       "    }\n",
       "</style>\n",
       "<table border=\"1\" class=\"dataframe\">\n",
       "  <thead>\n",
       "    <tr style=\"text-align: right;\">\n",
       "      <th></th>\n",
       "      <th>Headline</th>\n",
       "      <th>Headline_Cleaned</th>\n",
       "    </tr>\n",
       "    <tr>\n",
       "      <th>Date</th>\n",
       "      <th></th>\n",
       "      <th></th>\n",
       "    </tr>\n",
       "  </thead>\n",
       "  <tbody>\n",
       "    <tr>\n",
       "      <th>2011-01-02</th>\n",
       "      <td>Forex - AUD/USD weekly outlook: January 3-7</td>\n",
       "      <td>forex   aud usd weekly outlook  january 3 7</td>\n",
       "    </tr>\n",
       "    <tr>\n",
       "      <th>2011-01-02</th>\n",
       "      <td>Forex - USD/CAD down during the Asian session</td>\n",
       "      <td>forex   usd cad down during the asian session</td>\n",
       "    </tr>\n",
       "    <tr>\n",
       "      <th>2011-01-02</th>\n",
       "      <td>Forex - USD/JPY up during the Asian session</td>\n",
       "      <td>forex   usd jpy up during the asian session</td>\n",
       "    </tr>\n",
       "    <tr>\n",
       "      <th>2011-01-02</th>\n",
       "      <td>Forex - AUD/USD down during the Asian session</td>\n",
       "      <td>forex   aud usd down during the asian session</td>\n",
       "    </tr>\n",
       "    <tr>\n",
       "      <th>2011-01-02</th>\n",
       "      <td>Forex - NZD/USD down during the Asian session</td>\n",
       "      <td>forex   nzd usd down during the asian session</td>\n",
       "    </tr>\n",
       "    <tr>\n",
       "      <th>...</th>\n",
       "      <td>...</td>\n",
       "      <td>...</td>\n",
       "    </tr>\n",
       "    <tr>\n",
       "      <th>2018-12-26</th>\n",
       "      <td>Forex - Dollar Edges Higher in Quiet Post-Chri...</td>\n",
       "      <td>forex   dollar edges higher in quiet post chri...</td>\n",
       "    </tr>\n",
       "    <tr>\n",
       "      <th>2018-12-27</th>\n",
       "      <td>Forex - Yuan Gains Despite Weak China Data; U....</td>\n",
       "      <td>forex   yuan gains despite weak china data  u ...</td>\n",
       "    </tr>\n",
       "    <tr>\n",
       "      <th>2018-12-27</th>\n",
       "      <td>Forex - Yen Rises Amid Renewed China-U.S. Tens...</td>\n",
       "      <td>forex   yen rises amid renewed china u s  tens...</td>\n",
       "    </tr>\n",
       "    <tr>\n",
       "      <th>2018-12-30</th>\n",
       "      <td>USD Flat In Asia As US-China Trade Talks Prog...</td>\n",
       "      <td>usd flat in asia as us china trade talks prog...</td>\n",
       "    </tr>\n",
       "    <tr>\n",
       "      <th>2018-12-31</th>\n",
       "      <td>Dollar ends strongest year since 2015 on defen...</td>\n",
       "      <td>dollar ends strongest year since 2015 on defen...</td>\n",
       "    </tr>\n",
       "  </tbody>\n",
       "</table>\n",
       "<p>27969 rows × 2 columns</p>\n",
       "</div>"
      ],
      "text/plain": [
       "                                                     Headline  \\\n",
       "Date                                                            \n",
       "2011-01-02        Forex - AUD/USD weekly outlook: January 3-7   \n",
       "2011-01-02      Forex - USD/CAD down during the Asian session   \n",
       "2011-01-02        Forex - USD/JPY up during the Asian session   \n",
       "2011-01-02      Forex - AUD/USD down during the Asian session   \n",
       "2011-01-02      Forex - NZD/USD down during the Asian session   \n",
       "...                                                       ...   \n",
       "2018-12-26  Forex - Dollar Edges Higher in Quiet Post-Chri...   \n",
       "2018-12-27  Forex - Yuan Gains Despite Weak China Data; U....   \n",
       "2018-12-27  Forex - Yen Rises Amid Renewed China-U.S. Tens...   \n",
       "2018-12-30   USD Flat In Asia As US-China Trade Talks Prog...   \n",
       "2018-12-31  Dollar ends strongest year since 2015 on defen...   \n",
       "\n",
       "                                             Headline_Cleaned  \n",
       "Date                                                           \n",
       "2011-01-02        forex   aud usd weekly outlook  january 3 7  \n",
       "2011-01-02      forex   usd cad down during the asian session  \n",
       "2011-01-02        forex   usd jpy up during the asian session  \n",
       "2011-01-02      forex   aud usd down during the asian session  \n",
       "2011-01-02      forex   nzd usd down during the asian session  \n",
       "...                                                       ...  \n",
       "2018-12-26  forex   dollar edges higher in quiet post chri...  \n",
       "2018-12-27  forex   yuan gains despite weak china data  u ...  \n",
       "2018-12-27  forex   yen rises amid renewed china u s  tens...  \n",
       "2018-12-30   usd flat in asia as us china trade talks prog...  \n",
       "2018-12-31  dollar ends strongest year since 2015 on defen...  \n",
       "\n",
       "[27969 rows x 2 columns]"
      ]
     },
     "execution_count": 219,
     "metadata": {},
     "output_type": "execute_result"
    }
   ],
   "source": [
    "news['Headline_Cleaned'] = pd.DataFrame(news.Headline).applymap(lambda x: clean(x))\n",
    "news"
   ]
  },
  {
   "cell_type": "markdown",
   "metadata": {},
   "source": [
    "## 5.4 Deriving Sentiment\n",
    "\n",
    "After cleaning the headlines, sentiment polarity scores were derived by comparing the Textblob and VaderSentiment libraries as sentiment models."
   ]
  },
  {
   "cell_type": "code",
   "execution_count": 220,
   "metadata": {},
   "outputs": [
    {
     "name": "stdout",
     "output_type": "stream",
     "text": [
      "[TEXTBLOB] TOKENIZATION:\n",
      "\n",
      "Headline Used: Forex - EUR/USD up toward the end of U.S. session\n"
     ]
    },
    {
     "data": {
      "text/plain": [
       "WordList(['Forex', 'EUR/USD', 'up', 'toward', 'the', 'end', 'of', 'U.S', 'session'])"
      ]
     },
     "execution_count": 220,
     "metadata": {},
     "output_type": "execute_result"
    }
   ],
   "source": [
    "headline_test = news.iloc[327].Headline\n",
    "text_blob_tokenize = TextBlob(headline_test)\n",
    "print(\"[TEXTBLOB] TOKENIZATION:\")\n",
    "print(\"\\nHeadline Used:\", headline_test)\n",
    "text_blob_tokenize.words"
   ]
  },
  {
   "cell_type": "code",
   "execution_count": 221,
   "metadata": {},
   "outputs": [
    {
     "name": "stdout",
     "output_type": "stream",
     "text": [
      "[TEXTBLOB] DERIVED SENTIMENT\n"
     ]
    },
    {
     "data": {
      "text/plain": [
       "Sentiment(polarity=0.0, subjectivity=0.0)"
      ]
     },
     "execution_count": 221,
     "metadata": {},
     "output_type": "execute_result"
    }
   ],
   "source": [
    "print(\"[TEXTBLOB] DERIVED SENTIMENT\")\n",
    "text_blob_tokenize.sentiment"
   ]
  },
  {
   "cell_type": "code",
   "execution_count": 222,
   "metadata": {},
   "outputs": [
    {
     "name": "stdout",
     "output_type": "stream",
     "text": [
      "[TEXTBLOB] SPEECH TAGGING:\n"
     ]
    },
    {
     "data": {
      "text/plain": [
       "[('Forex', 'NNP'),\n",
       " ('EUR/USD', 'NNP'),\n",
       " ('up', 'RB'),\n",
       " ('toward', 'IN'),\n",
       " ('the', 'DT'),\n",
       " ('end', 'NN'),\n",
       " ('of', 'IN'),\n",
       " ('U.S.', 'NNP'),\n",
       " ('session', 'NN')]"
      ]
     },
     "execution_count": 222,
     "metadata": {},
     "output_type": "execute_result"
    }
   ],
   "source": [
    "print(\"[TEXTBLOB] SPEECH TAGGING:\")\n",
    "text_blob_tokenize.tags"
   ]
  },
  {
   "cell_type": "code",
   "execution_count": 223,
   "metadata": {},
   "outputs": [
    {
     "name": "stdout",
     "output_type": "stream",
     "text": [
      "[TEXTBLOB] N-GRAM (where n =3):\n"
     ]
    },
    {
     "data": {
      "text/plain": [
       "[WordList(['Forex', 'EUR/USD', 'up']),\n",
       " WordList(['EUR/USD', 'up', 'toward']),\n",
       " WordList(['up', 'toward', 'the']),\n",
       " WordList(['toward', 'the', 'end']),\n",
       " WordList(['the', 'end', 'of']),\n",
       " WordList(['end', 'of', 'U.S']),\n",
       " WordList(['of', 'U.S', 'session'])]"
      ]
     },
     "execution_count": 223,
     "metadata": {},
     "output_type": "execute_result"
    }
   ],
   "source": [
    "print(\"[TEXTBLOB] N-GRAM (where n =3):\")\n",
    "text_blob_tokenize.ngrams(n=3)"
   ]
  },
  {
   "cell_type": "code",
   "execution_count": 224,
   "metadata": {},
   "outputs": [
    {
     "name": "stdout",
     "output_type": "stream",
     "text": [
      "[VADERSENTIMENT] DERIVED SENTIMENT: {'neg': 0.0, 'neu': 1.0, 'pos': 0.0, 'compound': 0.0}\n"
     ]
    }
   ],
   "source": [
    "vd = SentimentIntensityAnalyzer()\n",
    "print(\"[VADERSENTIMENT] DERIVED SENTIMENT:\", vd.polarity_scores(headline_test))"
   ]
  },
  {
   "cell_type": "markdown",
   "metadata": {},
   "source": [
    "It can be observed that the VaderSentiment model is able to capture the positive connotations from the headline pertaining to the USD/CAD pair gaining. Moreover, this highlights that the VaderSentiment model is more prepared for slang and financial jargon than TextBlob as it is more sensitive to positive syntax and therefore will be used going forward. Similarly, the model allows for lexicon updated for further tuning towards financial jargon."
   ]
  },
  {
   "cell_type": "code",
   "execution_count": 225,
   "metadata": {},
   "outputs": [],
   "source": [
    "#Intialise sentiment analyzer model and update lexicon with financial jargon and appropriate costs\n",
    "analyser = SentimentIntensityAnalyzer()\n",
    "\n",
    "new_words = {\n",
    "    'highs': 5.0,\n",
    "    'lows': -5.0,\n",
    "    'higher': 2.0,\n",
    "    'lower': -2.0,\n",
    "    'high': 5.0,\n",
    "    'low': -5.0,\n",
    "    'crash': -7.0,\n",
    "    'crashes': -7.0,\n",
    "    'bullish': 5.0,\n",
    "    'bearish': -5.0,\n",
    "    'bulls': 5.0,\n",
    "    'bears': -5.0,\n",
    "    'drop': -3.0,\n",
    "    'drops': -3.0,\n",
    "    'surges': 3.0,\n",
    "    'surges': 3.0,\n",
    "    'up': 2.0,\n",
    "    'down': -2.0,\n",
    "    'soars': 4.0,\n",
    "    'soaring': 4.0,\n",
    "    'dropping': -3,\n",
    "    'strengthens': 10,\n",
    "    'strength': 10,\n",
    "    'rise': 12,\n",
    "    'rises': 12,\n",
    "    'dips': -12,\n",
    "    'dip': -12,\n",
    "    'weak': -8,\n",
    "    'strong': 8,\n",
    "    'slip': -10,\n",
    "    'slips': -10\n",
    "}\n",
    "\n",
    "analyser.lexicon.update(new_words)\n",
    "\n",
    "#method for returning decimal value for an inputted tweet based on the positivity/negativity represented in the text\n",
    "def get_sentiment(tweet):\n",
    "    \n",
    "    score = analyser.polarity_scores(tweet)['compound']\n",
    "    \n",
    "    return score"
   ]
  },
  {
   "cell_type": "code",
   "execution_count": 226,
   "metadata": {},
   "outputs": [
    {
     "data": {
      "text/html": [
       "<div>\n",
       "<style scoped>\n",
       "    .dataframe tbody tr th:only-of-type {\n",
       "        vertical-align: middle;\n",
       "    }\n",
       "\n",
       "    .dataframe tbody tr th {\n",
       "        vertical-align: top;\n",
       "    }\n",
       "\n",
       "    .dataframe thead th {\n",
       "        text-align: right;\n",
       "    }\n",
       "</style>\n",
       "<table border=\"1\" class=\"dataframe\">\n",
       "  <thead>\n",
       "    <tr style=\"text-align: right;\">\n",
       "      <th></th>\n",
       "      <th>Sentiment</th>\n",
       "    </tr>\n",
       "    <tr>\n",
       "      <th>Date</th>\n",
       "      <th></th>\n",
       "    </tr>\n",
       "  </thead>\n",
       "  <tbody>\n",
       "    <tr>\n",
       "      <th>2011-01-02</th>\n",
       "      <td>-0.083418</td>\n",
       "    </tr>\n",
       "    <tr>\n",
       "      <th>2011-01-03</th>\n",
       "      <td>-0.087333</td>\n",
       "    </tr>\n",
       "    <tr>\n",
       "      <th>2011-01-04</th>\n",
       "      <td>-0.038500</td>\n",
       "    </tr>\n",
       "    <tr>\n",
       "      <th>2011-01-05</th>\n",
       "      <td>0.119593</td>\n",
       "    </tr>\n",
       "    <tr>\n",
       "      <th>2011-01-06</th>\n",
       "      <td>0.021366</td>\n",
       "    </tr>\n",
       "    <tr>\n",
       "      <th>...</th>\n",
       "      <td>...</td>\n",
       "    </tr>\n",
       "    <tr>\n",
       "      <th>2018-12-25</th>\n",
       "      <td>-0.697500</td>\n",
       "    </tr>\n",
       "    <tr>\n",
       "      <th>2018-12-26</th>\n",
       "      <td>0.624700</td>\n",
       "    </tr>\n",
       "    <tr>\n",
       "      <th>2018-12-27</th>\n",
       "      <td>-0.245900</td>\n",
       "    </tr>\n",
       "    <tr>\n",
       "      <th>2018-12-30</th>\n",
       "      <td>0.421500</td>\n",
       "    </tr>\n",
       "    <tr>\n",
       "      <th>2018-12-31</th>\n",
       "      <td>0.458800</td>\n",
       "    </tr>\n",
       "  </tbody>\n",
       "</table>\n",
       "<p>2392 rows × 1 columns</p>\n",
       "</div>"
      ],
      "text/plain": [
       "            Sentiment\n",
       "Date                 \n",
       "2011-01-02  -0.083418\n",
       "2011-01-03  -0.087333\n",
       "2011-01-04  -0.038500\n",
       "2011-01-05   0.119593\n",
       "2011-01-06   0.021366\n",
       "...               ...\n",
       "2018-12-25  -0.697500\n",
       "2018-12-26   0.624700\n",
       "2018-12-27  -0.245900\n",
       "2018-12-30   0.421500\n",
       "2018-12-31   0.458800\n",
       "\n",
       "[2392 rows x 1 columns]"
      ]
     },
     "execution_count": 226,
     "metadata": {},
     "output_type": "execute_result"
    }
   ],
   "source": [
    "#Generate sentiment values\n",
    "news['Sentiment'] = pd.DataFrame(news.Headline_Cleaned).applymap(lambda x: get_sentiment(x))\n",
    "\n",
    "#Find mean sentiment for each day\n",
    "sentiment = news.groupby('Date', as_index=True).agg({'Sentiment': ['mean']})\n",
    "\n",
    "sentiment.columns = ['Sentiment']\n",
    "\n",
    "sentiment"
   ]
  },
  {
   "cell_type": "code",
   "execution_count": 227,
   "metadata": {},
   "outputs": [
    {
     "name": "stdout",
     "output_type": "stream",
     "text": [
      "Number of missing news sentiment values: 531\n"
     ]
    }
   ],
   "source": [
    "date_range = pd.date_range(start='20110101', end='20190101', freq='D')\n",
    "missing_news = pd.DataFrame(index=date_range)\n",
    "missing_news = missing_news.join(sentiment)\n",
    "print(\"Number of missing news sentiment values:\", missing_news.isna().sum().sum())"
   ]
  },
  {
   "cell_type": "code",
   "execution_count": 228,
   "metadata": {},
   "outputs": [
    {
     "data": {
      "text/html": [
       "<div>\n",
       "<style scoped>\n",
       "    .dataframe tbody tr th:only-of-type {\n",
       "        vertical-align: middle;\n",
       "    }\n",
       "\n",
       "    .dataframe tbody tr th {\n",
       "        vertical-align: top;\n",
       "    }\n",
       "\n",
       "    .dataframe thead th {\n",
       "        text-align: right;\n",
       "    }\n",
       "</style>\n",
       "<table border=\"1\" class=\"dataframe\">\n",
       "  <thead>\n",
       "    <tr style=\"text-align: right;\">\n",
       "      <th></th>\n",
       "      <th>Sentiment</th>\n",
       "    </tr>\n",
       "  </thead>\n",
       "  <tbody>\n",
       "    <tr>\n",
       "      <th>2011-01-01</th>\n",
       "      <td>-0.083418</td>\n",
       "    </tr>\n",
       "    <tr>\n",
       "      <th>2011-01-02</th>\n",
       "      <td>-0.083418</td>\n",
       "    </tr>\n",
       "    <tr>\n",
       "      <th>2011-01-03</th>\n",
       "      <td>-0.087333</td>\n",
       "    </tr>\n",
       "    <tr>\n",
       "      <th>2011-01-04</th>\n",
       "      <td>-0.038500</td>\n",
       "    </tr>\n",
       "    <tr>\n",
       "      <th>2011-01-05</th>\n",
       "      <td>0.119593</td>\n",
       "    </tr>\n",
       "    <tr>\n",
       "      <th>...</th>\n",
       "      <td>...</td>\n",
       "    </tr>\n",
       "    <tr>\n",
       "      <th>2018-12-28</th>\n",
       "      <td>-0.023433</td>\n",
       "    </tr>\n",
       "    <tr>\n",
       "      <th>2018-12-29</th>\n",
       "      <td>0.199033</td>\n",
       "    </tr>\n",
       "    <tr>\n",
       "      <th>2018-12-30</th>\n",
       "      <td>0.421500</td>\n",
       "    </tr>\n",
       "    <tr>\n",
       "      <th>2018-12-31</th>\n",
       "      <td>0.458800</td>\n",
       "    </tr>\n",
       "    <tr>\n",
       "      <th>2019-01-01</th>\n",
       "      <td>0.458800</td>\n",
       "    </tr>\n",
       "  </tbody>\n",
       "</table>\n",
       "<p>2923 rows × 1 columns</p>\n",
       "</div>"
      ],
      "text/plain": [
       "            Sentiment\n",
       "2011-01-01  -0.083418\n",
       "2011-01-02  -0.083418\n",
       "2011-01-03  -0.087333\n",
       "2011-01-04  -0.038500\n",
       "2011-01-05   0.119593\n",
       "...               ...\n",
       "2018-12-28  -0.023433\n",
       "2018-12-29   0.199033\n",
       "2018-12-30   0.421500\n",
       "2018-12-31   0.458800\n",
       "2019-01-01   0.458800\n",
       "\n",
       "[2923 rows x 1 columns]"
      ]
     },
     "execution_count": 228,
     "metadata": {},
     "output_type": "execute_result"
    }
   ],
   "source": [
    "#Fill missing sentiment data with interpolation forward and fillings back/forwards\n",
    "missing_news['Sentiment'] = missing_news['Sentiment'].interpolate(method='time', order=2)\n",
    "missing_news = missing_news.fillna(method='bfill')\n",
    "missing_news = missing_news.fillna(method='ffill')\n",
    "missing_news"
   ]
  },
  {
   "cell_type": "code",
   "execution_count": 229,
   "metadata": {},
   "outputs": [
    {
     "data": {
      "text/html": [
       "<div>\n",
       "<style scoped>\n",
       "    .dataframe tbody tr th:only-of-type {\n",
       "        vertical-align: middle;\n",
       "    }\n",
       "\n",
       "    .dataframe tbody tr th {\n",
       "        vertical-align: top;\n",
       "    }\n",
       "\n",
       "    .dataframe thead th {\n",
       "        text-align: right;\n",
       "    }\n",
       "</style>\n",
       "<table border=\"1\" class=\"dataframe\">\n",
       "  <thead>\n",
       "    <tr style=\"text-align: right;\">\n",
       "      <th></th>\n",
       "      <th>Headline_Cleaned</th>\n",
       "      <th>Sentiment</th>\n",
       "    </tr>\n",
       "    <tr>\n",
       "      <th>Date</th>\n",
       "      <th></th>\n",
       "      <th></th>\n",
       "    </tr>\n",
       "  </thead>\n",
       "  <tbody>\n",
       "    <tr>\n",
       "      <th>2011-01-02</th>\n",
       "      <td>forex   aud usd weekly outlook  january 3 7</td>\n",
       "      <td>0.0000</td>\n",
       "    </tr>\n",
       "    <tr>\n",
       "      <th>2011-01-02</th>\n",
       "      <td>forex   usd cad down during the asian session</td>\n",
       "      <td>-0.4588</td>\n",
       "    </tr>\n",
       "    <tr>\n",
       "      <th>2011-01-02</th>\n",
       "      <td>forex   usd jpy up during the asian session</td>\n",
       "      <td>0.4588</td>\n",
       "    </tr>\n",
       "    <tr>\n",
       "      <th>2011-01-02</th>\n",
       "      <td>forex   aud usd down during the asian session</td>\n",
       "      <td>-0.4588</td>\n",
       "    </tr>\n",
       "    <tr>\n",
       "      <th>2011-01-02</th>\n",
       "      <td>forex   nzd usd down during the asian session</td>\n",
       "      <td>-0.4588</td>\n",
       "    </tr>\n",
       "    <tr>\n",
       "      <th>...</th>\n",
       "      <td>...</td>\n",
       "      <td>...</td>\n",
       "    </tr>\n",
       "    <tr>\n",
       "      <th>2018-12-26</th>\n",
       "      <td>forex   dollar edges higher in quiet post chri...</td>\n",
       "      <td>0.4588</td>\n",
       "    </tr>\n",
       "    <tr>\n",
       "      <th>2018-12-27</th>\n",
       "      <td>forex   yuan gains despite weak china data  u ...</td>\n",
       "      <td>-0.5690</td>\n",
       "    </tr>\n",
       "    <tr>\n",
       "      <th>2018-12-27</th>\n",
       "      <td>forex   yen rises amid renewed china u s  tens...</td>\n",
       "      <td>0.0772</td>\n",
       "    </tr>\n",
       "    <tr>\n",
       "      <th>2018-12-30</th>\n",
       "      <td>usd flat in asia as us china trade talks prog...</td>\n",
       "      <td>0.4215</td>\n",
       "    </tr>\n",
       "    <tr>\n",
       "      <th>2018-12-31</th>\n",
       "      <td>dollar ends strongest year since 2015 on defen...</td>\n",
       "      <td>0.4588</td>\n",
       "    </tr>\n",
       "  </tbody>\n",
       "</table>\n",
       "<p>27969 rows × 2 columns</p>\n",
       "</div>"
      ],
      "text/plain": [
       "                                             Headline_Cleaned  Sentiment\n",
       "Date                                                                    \n",
       "2011-01-02        forex   aud usd weekly outlook  january 3 7     0.0000\n",
       "2011-01-02      forex   usd cad down during the asian session    -0.4588\n",
       "2011-01-02        forex   usd jpy up during the asian session     0.4588\n",
       "2011-01-02      forex   aud usd down during the asian session    -0.4588\n",
       "2011-01-02      forex   nzd usd down during the asian session    -0.4588\n",
       "...                                                       ...        ...\n",
       "2018-12-26  forex   dollar edges higher in quiet post chri...     0.4588\n",
       "2018-12-27  forex   yuan gains despite weak china data  u ...    -0.5690\n",
       "2018-12-27  forex   yen rises amid renewed china u s  tens...     0.0772\n",
       "2018-12-30   usd flat in asia as us china trade talks prog...     0.4215\n",
       "2018-12-31  dollar ends strongest year since 2015 on defen...     0.4588\n",
       "\n",
       "[27969 rows x 2 columns]"
      ]
     },
     "execution_count": 229,
     "metadata": {},
     "output_type": "execute_result"
    }
   ],
   "source": [
    "news = news.drop(columns=['Headline'])\n",
    "news"
   ]
  },
  {
   "cell_type": "markdown",
   "metadata": {},
   "source": [
    "## 5.5 Visualising Sentiment\n",
    "\n",
    "To help visualise the effectiveness of the VaderSentiment model, wordclouds have been implement which show the frequency of classified words in the sentiment classes."
   ]
  },
  {
   "cell_type": "code",
   "execution_count": 230,
   "metadata": {},
   "outputs": [],
   "source": [
    "#Wordcloud\n",
    "stopwords = set(STOPWORDS)\n",
    "\n",
    "#function to draw wordclouds\n",
    "def show_wordcloud(data, title = None):\n",
    "    \n",
    "    wordcloud = WordCloud(\n",
    "        background_color='white',\n",
    "        stopwords=stopwords,\n",
    "        max_words=200,\n",
    "        max_font_size=40, \n",
    "        scale=3,\n",
    "        random_state=1).generate(str(data))\n",
    "\n",
    "    fig = plt.figure(1, figsize=(12, 12))\n",
    "    \n",
    "    plt.axis('off')\n",
    "    \n",
    "    if title: \n",
    "        \n",
    "        fig.suptitle(title, fontsize=20)\n",
    "        \n",
    "        fig.subplots_adjust(top=2.3)\n",
    "\n",
    "    plt.imshow(wordcloud)\n",
    "    \n",
    "    plt.show()"
   ]
  },
  {
   "cell_type": "code",
   "execution_count": 231,
   "metadata": {},
   "outputs": [
    {
     "name": "stdout",
     "output_type": "stream",
     "text": [
      "Word Cloud for Positively Classed Headlines\n"
     ]
    },
    {
     "data": {
      "image/png": "[encoded data removed]",
      "text/plain": [
       "<Figure size 864x864 with 1 Axes>"
      ]
     },
     "metadata": {
      "needs_background": "light"
     },
     "output_type": "display_data"
    },
    {
     "name": "stdout",
     "output_type": "stream",
     "text": [
      "\n",
      "Word Cloud for Negatively Classed Headlines\n"
     ]
    },
    {
     "data": {
      "image/png": "[encoded data removed]",
      "text/plain": [
       "<Figure size 864x864 with 1 Axes>"
      ]
     },
     "metadata": {
      "needs_background": "light"
     },
     "output_type": "display_data"
    }
   ],
   "source": [
    "#Draw wordcloud for positive sentiment tweets\n",
    "print(\"Word Cloud for Positively Classed Headlines\")\n",
    "\n",
    "show_wordcloud(news[news['Sentiment'] >= 0].values)\n",
    "\n",
    "#Draw wordcloud for negative sentiment tweets\n",
    "print(\"\\nWord Cloud for Negatively Classed Headlines\")\n",
    "\n",
    "show_wordcloud(news[news['Sentiment'] < 0].values)"
   ]
  },
  {
   "cell_type": "markdown",
   "metadata": {},
   "source": [
    "## 5.6 Plotting News Sentiment"
   ]
  },
  {
   "cell_type": "code",
   "execution_count": 240,
   "metadata": {},
   "outputs": [
    {
     "data": {
      "text/html": [
       "<div>\n",
       "<style scoped>\n",
       "    .dataframe tbody tr th:only-of-type {\n",
       "        vertical-align: middle;\n",
       "    }\n",
       "\n",
       "    .dataframe tbody tr th {\n",
       "        vertical-align: top;\n",
       "    }\n",
       "\n",
       "    .dataframe thead th {\n",
       "        text-align: right;\n",
       "    }\n",
       "</style>\n",
       "<table border=\"1\" class=\"dataframe\">\n",
       "  <thead>\n",
       "    <tr style=\"text-align: right;\">\n",
       "      <th></th>\n",
       "      <th>Open</th>\n",
       "      <th>High</th>\n",
       "      <th>Low</th>\n",
       "      <th>Close</th>\n",
       "      <th>Volume</th>\n",
       "      <th>Return</th>\n",
       "      <th>News_Sentiment</th>\n",
       "    </tr>\n",
       "    <tr>\n",
       "      <th>Date</th>\n",
       "      <th></th>\n",
       "      <th></th>\n",
       "      <th></th>\n",
       "      <th></th>\n",
       "      <th></th>\n",
       "      <th></th>\n",
       "      <th></th>\n",
       "    </tr>\n",
       "  </thead>\n",
       "  <tbody>\n",
       "    <tr>\n",
       "      <th>2011-01-02</th>\n",
       "      <td>1.02070</td>\n",
       "      <td>1.02267</td>\n",
       "      <td>1.01582</td>\n",
       "      <td>1.01687</td>\n",
       "      <td>69778.4109</td>\n",
       "      <td>-0.005808</td>\n",
       "      <td>-0.083418</td>\n",
       "    </tr>\n",
       "    <tr>\n",
       "      <th>2011-01-03</th>\n",
       "      <td>1.01687</td>\n",
       "      <td>1.01716</td>\n",
       "      <td>1.00294</td>\n",
       "      <td>1.00517</td>\n",
       "      <td>124906.5397</td>\n",
       "      <td>-0.011506</td>\n",
       "      <td>-0.087333</td>\n",
       "    </tr>\n",
       "    <tr>\n",
       "      <th>2011-01-04</th>\n",
       "      <td>1.00517</td>\n",
       "      <td>1.00770</td>\n",
       "      <td>0.99613</td>\n",
       "      <td>0.99961</td>\n",
       "      <td>119343.0942</td>\n",
       "      <td>-0.005531</td>\n",
       "      <td>-0.038500</td>\n",
       "    </tr>\n",
       "    <tr>\n",
       "      <th>2011-01-05</th>\n",
       "      <td>0.99961</td>\n",
       "      <td>1.00159</td>\n",
       "      <td>0.99338</td>\n",
       "      <td>0.99449</td>\n",
       "      <td>99106.5343</td>\n",
       "      <td>-0.005122</td>\n",
       "      <td>0.119593</td>\n",
       "    </tr>\n",
       "    <tr>\n",
       "      <th>2011-01-06</th>\n",
       "      <td>0.99448</td>\n",
       "      <td>0.99932</td>\n",
       "      <td>0.99087</td>\n",
       "      <td>0.99614</td>\n",
       "      <td>101413.4171</td>\n",
       "      <td>0.001659</td>\n",
       "      <td>0.021366</td>\n",
       "    </tr>\n",
       "  </tbody>\n",
       "</table>\n",
       "</div>"
      ],
      "text/plain": [
       "               Open     High      Low    Close       Volume    Return  \\\n",
       "Date                                                                    \n",
       "2011-01-02  1.02070  1.02267  1.01582  1.01687   69778.4109 -0.005808   \n",
       "2011-01-03  1.01687  1.01716  1.00294  1.00517  124906.5397 -0.011506   \n",
       "2011-01-04  1.00517  1.00770  0.99613  0.99961  119343.0942 -0.005531   \n",
       "2011-01-05  0.99961  1.00159  0.99338  0.99449   99106.5343 -0.005122   \n",
       "2011-01-06  0.99448  0.99932  0.99087  0.99614  101413.4171  0.001659   \n",
       "\n",
       "            News_Sentiment  \n",
       "Date                        \n",
       "2011-01-02       -0.083418  \n",
       "2011-01-03       -0.087333  \n",
       "2011-01-04       -0.038500  \n",
       "2011-01-05        0.119593  \n",
       "2011-01-06        0.021366  "
      ]
     },
     "execution_count": 240,
     "metadata": {},
     "output_type": "execute_result"
    }
   ],
   "source": [
    "data = df.copy()\n",
    "data['News_Sentiment'] = missing_news.Sentiment\n",
    "data.head()"
   ]
  },
  {
   "cell_type": "code",
   "execution_count": 245,
   "metadata": {},
   "outputs": [
    {
     "name": "stdout",
     "output_type": "stream",
     "text": [
      "Correlation between News & Returns is:  -0.00494551033243309\n"
     ]
    },
    {
     "data": {
      "image/png": "[encoded data removed]",
      "text/plain": [
       "<Figure size 1440x720 with 1 Axes>"
      ]
     },
     "metadata": {
      "needs_background": "light"
     },
     "output_type": "display_data"
    }
   ],
   "source": [
    "def plot_news_sentiment_returns(data, start, end):\n",
    "    scaler = MinMaxScaler()\n",
    "    scaled = pd.DataFrame(scaler.fit_transform(data.copy()[['Return', 'News_Sentiment']]), columns=['Return','News_Sentiment'], index=data.index)\n",
    "\n",
    "    fig, ax = plt.subplots(figsize = (20,10))\n",
    "    \n",
    "    ax.plot(scaled.News_Sentiment[start:end], c='red', label=\"Daily News Sentiment\")\n",
    "\n",
    "    ax.plot(scaled.Return[start:end], label=\"Returns\", linestyle='--')\n",
    "\n",
    "    ax.set_xlabel(\"Date\")\n",
    "    ax.set_ylabel(\"Standardized Value\")\n",
    "    ax.set_title(\"Return vs Sentiment Score\")\n",
    "    ax.legend()\n",
    "\n",
    "    print(\"Correlation between News & Returns is: \", scaled.News_Sentiment.corr(scaled.Return))\n",
    "\n",
    "    \n",
    "plot_news_sentiment_returns(data, 50, 100)"
   ]
  },
  {
   "cell_type": "markdown",
   "metadata": {},
   "source": [
    "## 5.7 Testing News Features with RF Classifier\n",
    "\n",
    "As with previous analysis, the generated fundamental analysis features are testing with a Random Forest classifier."
   ]
  },
  {
   "cell_type": "code",
   "execution_count": 256,
   "metadata": {},
   "outputs": [],
   "source": [
    "import math\n",
    "#Import for data visualisation\n",
    "from sklearn.metrics import plot_confusion_matrix\n",
    "\n",
    "from sklearn.model_selection import train_test_split\n",
    "from sklearn.model_selection import cross_val_score\n",
    "\n",
    "#get labels\n",
    "def get_labels(data):\n",
    "\n",
    "    fhm_labels = pd.DataFrame(data.Return.shift(-1)).applymap(lambda x: 1 if x > 0 else - 1)\n",
    "\n",
    "    labels = fhm_labels\n",
    "    \n",
    "    #make indexing for price data the same as the generated labels\n",
    "    joined = pd.concat([data, labels], axis=1)\n",
    "\n",
    "    joined.dropna(inplace=True)\n",
    "    \n",
    "    joined.columns = ['Open','High','Low','Close','Volume','Return','News_Sentiment','Label']\n",
    "    \n",
    "    return joined\n",
    "\n",
    "def rf_model(data, labels):\n",
    "    #generate training data and split\n",
    "    X = data.copy().drop(columns=['Label'])\n",
    "    y = labels.values.astype(int)\n",
    "    \n",
    "    split = int(len(X)*0.7)\n",
    "\n",
    "    X_train = X[0:split]\n",
    "    X_test = X[split+1:]\n",
    "    \n",
    "    y_train = y[0:split]\n",
    "    y_test = y[split+1:]\n",
    "\n",
    "    rf = RandomForestClassifier()\n",
    "    rf.fit(X_train,y_train)\n",
    "    predicted = rf.predict(X_test)\n",
    "\n",
    "    score = cross_val_score(rf,X_train,y_train)\n",
    "    \n",
    "    print(\"The cross validation score for Fundamental Analysis data is\", rf.score(X_test,y_test))\n",
    "    \n",
    "    initial = 1000\n",
    "    for i in range(0,len(y_test)):\n",
    "        initial = initial + data.Close[split+i+1] * predicted[i]\n",
    "    print(\"Total Equity if trading from daily predictions on test data (initial equity = 1000):\", initial)\n",
    "    \n",
    "    #Plot confusion matrices\n",
    "    titles_options = [(\"Confusion matrix, without normalization\", None)]\n",
    "\n",
    "    disp = plot_confusion_matrix(rf, X_test, y_test,                           \n",
    "                                 display_labels=[-1,1],\n",
    "                                 cmap=plt.cm.Blues)\n",
    "\n",
    "    disp.ax_.set_title(\"Confusion Matrix\")\n",
    "    \n",
    "    return score"
   ]
  },
  {
   "cell_type": "code",
   "execution_count": 257,
   "metadata": {},
   "outputs": [
    {
     "name": "stdout",
     "output_type": "stream",
     "text": [
      "The cross validation score for Fundamental Analysis data is 0.5454545454545454\n",
      "Total Equity if trading from daily predictions on test data (initial equity = 1000): 911.6094000000007\n"
     ]
    },
    {
     "data": {
      "text/plain": [
       "array([0.46075085, 0.46416382, 0.45733788, 0.51027397, 0.50342466])"
      ]
     },
     "execution_count": 257,
     "metadata": {},
     "output_type": "execute_result"
    },
    {
     "data": {
      "image/png": "[encoded data removed]",
      "text/plain": [
       "<Figure size 432x288 with 2 Axes>"
      ]
     },
     "metadata": {
      "needs_background": "light"
     },
     "output_type": "display_data"
    }
   ],
   "source": [
    "labelled_data = get_labels(data)\n",
    "rf_model(labelled_data, labelled_data.Label)"
   ]
  },
  {
   "cell_type": "code",
   "execution_count": null,
   "metadata": {},
   "outputs": [],
   "source": []
  }
 ],
 "metadata": {
  "kernelspec": {
   "display_name": "Python 3",
   "language": "python",
   "name": "python3"
  },
  "language_info": {
   "codemirror_mode": {
    "name": "ipython",
    "version": 3
   },
   "file_extension": ".py",
   "mimetype": "text/x-python",
   "name": "python",
   "nbconvert_exporter": "python",
   "pygments_lexer": "ipython3",
   "version": "3.8.5"
  }
 },
 "nbformat": 4,
 "nbformat_minor": 4
}
